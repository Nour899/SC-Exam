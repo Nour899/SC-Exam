{
 "cells": [
  {
   "cell_type": "code",
   "execution_count": 12,
   "id": "premium-decrease",
   "metadata": {},
   "outputs": [],
   "source": [
    "import numpy as np\n",
    "class KMP:\n",
    "     def __init__(self,w,s):\n",
    "         self.w = list(w)\n",
    "         self.s = list(s)\n",
    "     def kmp_table(self):\n",
    "        pos=1\n",
    "        c=0\n",
    "        T=np.zeros(len(self.w))\n",
    "        while pos<len(self.w):\n",
    "         if self.w[c]==self.w[pos]:\n",
    "           c+=1\n",
    "           T[pos]=c\n",
    "         else:\n",
    "          c=0\n",
    "         pos+=1\n",
    "        return T\n",
    "     def kmp_search(self,T):\n",
    "         j=0\n",
    "         pos=[]\n",
    "            \n",
    "         for i in np.arange(0,len(self.s)):\n",
    "        ### If you found  mismatch after one or more matches dont start your comparison from begining, but refer to the table that gives the suitable prefix to the suffix you reached before mismatch occurs\"\n",
    "           while j>0 and self.s[i] != self.w[j]: \n",
    "              j=int(T[j-1])\n",
    "           if self.w[j]==self.s[i]:\n",
    "            j+=1\n",
    "           if j==len(self.w):\n",
    "            pos.append(i-len(self.w)+1)\n",
    "            j=int(T[j-1]) \n",
    "                \n",
    "         if len(pos)!=0:\n",
    "            print('matches found at', pos)\n",
    "         else:\n",
    "            print('no match')"
   ]
  },
  {
   "cell_type": "code",
   "execution_count": 13,
   "id": "incoming-envelope",
   "metadata": {},
   "outputs": [
    {
     "name": "stdout",
     "output_type": "stream",
     "text": [
      "matches found at [9]\n"
     ]
    }
   ],
   "source": [
    "k=KMP('dsgwadsgz','adsgwadsxdsgwadsgz')\n",
    "t=k.kmp_table()\n",
    "k.kmp_search(t)"
   ]
  },
  {
   "cell_type": "code",
   "execution_count": null,
   "id": "sophisticated-amplifier",
   "metadata": {},
   "outputs": [],
   "source": []
  }
 ],
 "metadata": {
  "kernelspec": {
   "display_name": "Python 3",
   "language": "python",
   "name": "python3"
  },
  "language_info": {
   "codemirror_mode": {
    "name": "ipython",
    "version": 3
   },
   "file_extension": ".py",
   "mimetype": "text/x-python",
   "name": "python",
   "nbconvert_exporter": "python",
   "pygments_lexer": "ipython3",
   "version": "3.8.5"
  }
 },
 "nbformat": 4,
 "nbformat_minor": 5
}
