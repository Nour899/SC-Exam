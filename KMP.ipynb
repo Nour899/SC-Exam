{
 "cells": [
  {
   "cell_type": "code",
   "execution_count": 3,
   "id": "collected-potential",
   "metadata": {},
   "outputs": [],
   "source": [
    "import numpy as np\n",
    "class KMP:\n",
    "     def __init__(self,w,s):\n",
    "         self.w = list(w)\n",
    "         self.s = list(s)\n",
    "     def kmp_table(self):\n",
    "        pos=1\n",
    "        c=0\n",
    "        T=np.zeros(len(self.w))\n",
    "        while pos<len(self.w):\n",
    "         if self.w[c]==self.w[pos]:\n",
    "           c+=1\n",
    "           T[pos]=c\n",
    "         else:\n",
    "          c=0\n",
    "         pos+=1\n",
    "        return T"
   ]
  },
  {
   "cell_type": "code",
   "execution_count": 4,
   "id": "beginning-draft",
   "metadata": {},
   "outputs": [
    {
     "data": {
      "text/plain": [
       "array([0., 0., 0., 0., 0., 1., 2., 3., 0.])"
      ]
     },
     "execution_count": 4,
     "metadata": {},
     "output_type": "execute_result"
    }
   ],
   "source": [
    "k=KMP('dsgwadsgz','adsgwadsxdsgwadsgz')\n",
    "t=k.kmp_table()\n",
    "t"
   ]
  },
  {
   "cell_type": "code",
   "execution_count": null,
   "id": "after-relationship",
   "metadata": {},
   "outputs": [],
   "source": []
  }
 ],
 "metadata": {
  "kernelspec": {
   "display_name": "Python 3",
   "language": "python",
   "name": "python3"
  },
  "language_info": {
   "codemirror_mode": {
    "name": "ipython",
    "version": 3
   },
   "file_extension": ".py",
   "mimetype": "text/x-python",
   "name": "python",
   "nbconvert_exporter": "python",
   "pygments_lexer": "ipython3",
   "version": "3.8.5"
  }
 },
 "nbformat": 4,
 "nbformat_minor": 5
}
