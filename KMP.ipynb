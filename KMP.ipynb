{
 "cells": [
  {
   "cell_type": "markdown",
   "id": "rough-indiana",
   "metadata": {},
   "source": [
    "# KMP algorithm\n",
    "##### This algorithm is a way to search for a specific substring 'w' of length 'k' within a big string 's' of charachters of length 'n'. It makes use of information of previous matches to increment the search.\n",
    "\n",
    "##### The information of previous match is encoded in a table $T$ of length k. The time needed to construct this table is $O(k)$. Thus if mismatch happens comparing $w[j]$ to $s[i]$, you refer to the table that tells rebegin your search from the index $i=T[j-1]$.\n",
    "\n",
    "##### The table tells you that in the j-th index of the substring what is longest prefix you are sure that you had matched before the mismatching occured.\n",
    "##### For example :\n",
    "$$w:\\space d\\space s\\space g\\space w\\space a\\space d\\space s\\space g\\space z$$\n",
    "$$T:\\space 0\\space 0\\space 0\\space 0\\space 0\\space 1\\space 2\\space 3\\space 0$$   \n",
    "\n",
    "##### Here you can see if mismatch happen  at $w[8]='z'$ then the table tells you to start your search from index $j=T[j-1]=3$. Thus you compare $s[i]$ (where the mismatch occured) with $w[3]$. Because in this case you are sure the suffix  of the string which is composed of three charchters, before the mismatch ,is matching with prefix ('dsg' in this case ) of the word you are searching for."
   ]
  },
  {
   "cell_type": "code",
   "execution_count": 19,
   "id": "geological-abraham",
   "metadata": {},
   "outputs": [],
   "source": [
    "import numpy as np\n",
    "class KMP:\n",
    "     def __init__(self,w,s):\n",
    "         self.w = list(w)\n",
    "         self.s = list(s)\n",
    "     ## Constructing the table\n",
    "     def kmp_table(self):\n",
    "        pos=1 ## pos is the variable that will run once through the charachters of the word\n",
    "        c=0 ##c is the variable that will determine the value of T[j] through comparing prefix and suffix \n",
    "            ## inside the word\n",
    "       \n",
    "        T=np.zeros(len(self.w)) ##T[0]=0 always\n",
    "        \n",
    "        while pos<len(self.w):\n",
    "         if self.w[c]==self.w[pos]: ##if you found a match then you find a suffix which is also a suffix of length\n",
    "                                     ## c+1 (c strats from zero)\n",
    "          c+=1\n",
    "          T[pos]=c\n",
    "            \n",
    "         elif c!=0 and self.w[0]==self.w[pos] :\n",
    "          \n",
    "          c=1       ## if a mismatch between prefix and suffix occur, then \n",
    "          T[pos]=c  ##search for new suffix starting from the mismatching position\n",
    "        \n",
    "         else:\n",
    "                \n",
    "          c=0    ## set c=0 indicating a new search starting from the next position, directly after the mismatch\n",
    "        \n",
    "         pos+=1\n",
    "        \n",
    "        return T\n",
    "    \n",
    "    \n",
    "     def kmp_search(self,T):\n",
    "         j=0\n",
    "         pos=[]\n",
    "            \n",
    "         for i in np.arange(0,len(self.s)):\n",
    "            \n",
    "        ## If you found  mismatch after one or more matches dont start your comparison from begining,\n",
    "        ## but refer to the table that gives the suitable prefix to the suffix you reached \n",
    "        ## before mismatch occured\"\n",
    "           while j>0 and self.s[i] != self.w[j]: \n",
    "              \n",
    "            j=int(T[j-1]) ## if mismatching keeps occuring the table at the end the table will tell you to start \n",
    "                          ## from the beginning of w.\n",
    "           \n",
    "           if self.w[j]==self.s[i]: ##match occur keep going through w by incrementing j\n",
    "            j+=1\n",
    "           \n",
    "           if j==len(self.w): ### if j has the size of the word then one w is find in s\n",
    "            pos.append(i-len(self.w)+1)\n",
    "            j=int(T[j-1]) ## In this is important to notice that sometimes a prefix of w is containd in another w\n",
    "                           ## for example w='aba' and s='ababa'\n",
    "         if len(pos)!=0:\n",
    "            print('matches found at', pos)\n",
    "         else:\n",
    "            print('no match')\n",
    "            \n",
    "    "
   ]
  },
  {
   "cell_type": "code",
   "execution_count": 20,
   "id": "subtle-correlation",
   "metadata": {},
   "outputs": [
    {
     "name": "stdout",
     "output_type": "stream",
     "text": [
      "matches found at [9]\n"
     ]
    }
   ],
   "source": [
    "k=KMP('dsgwadsgz','adsgwadsxdsgwadsgz')\n",
    "t=k.kmp_table()\n",
    "k.kmp_search(t)\n",
    "\n",
    "##Note the index starts counting from zero "
   ]
  },
  {
   "cell_type": "code",
   "execution_count": 21,
   "id": "superb-therapist",
   "metadata": {},
   "outputs": [
    {
     "name": "stdout",
     "output_type": "stream",
     "text": [
      "matches found at [2, 5, 11]\n"
     ]
    }
   ],
   "source": [
    "w='is'\n",
    "s='This is a misunderstanding'\n",
    "k=KMP(w,s)\n",
    "t=k.kmp_table()\n",
    "k.kmp_search(t)"
   ]
  },
  {
   "cell_type": "code",
   "execution_count": 22,
   "id": "mysterious-marsh",
   "metadata": {},
   "outputs": [
    {
     "name": "stdout",
     "output_type": "stream",
     "text": [
      "matches found at [0, 2]\n"
     ]
    }
   ],
   "source": [
    "w='aba'\n",
    "s='ababa'\n",
    "k=KMP(w,s)\n",
    "t=k.kmp_table()\n",
    "k.kmp_search(t)"
   ]
  },
  {
   "cell_type": "code",
   "execution_count": null,
   "id": "united-advertising",
   "metadata": {},
   "outputs": [],
   "source": []
  }
 ],
 "metadata": {
  "kernelspec": {
   "display_name": "Python 3",
   "language": "python",
   "name": "python3"
  },
  "language_info": {
   "codemirror_mode": {
    "name": "ipython",
    "version": 3
   },
   "file_extension": ".py",
   "mimetype": "text/x-python",
   "name": "python",
   "nbconvert_exporter": "python",
   "pygments_lexer": "ipython3",
   "version": "3.8.5"
  }
 },
 "nbformat": 4,
 "nbformat_minor": 5
}
